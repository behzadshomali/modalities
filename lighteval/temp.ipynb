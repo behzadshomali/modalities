{
 "cells": [
  {
   "cell_type": "code",
   "execution_count": 1,
   "id": "a08d2e05",
   "metadata": {},
   "outputs": [
    {
     "name": "stderr",
     "output_type": "stream",
     "text": [
      "/raid/s3/opengptx/behzad_shomali/miniforge3/envs/modalities/lib/python3.11/site-packages/tqdm/auto.py:21: TqdmWarning: IProgress not found. Please update jupyter and ipywidgets. See https://ipywidgets.readthedocs.io/en/stable/user_install.html\n",
      "  from .autonotebook import tqdm as notebook_tqdm\n"
     ]
    }
   ],
   "source": [
    "from lighteval_model_wrapper import LightevalModelWrapper"
   ]
  },
  {
   "cell_type": "code",
   "execution_count": 2,
   "id": "dadeefeb",
   "metadata": {},
   "outputs": [
    {
     "ename": "AttributeError",
     "evalue": "'dict' object has no attribute 'model_definition_file_path'",
     "output_type": "error",
     "traceback": [
      "\u001b[31m---------------------------------------------------------------------------\u001b[39m",
      "\u001b[31mAttributeError\u001b[39m                            Traceback (most recent call last)",
      "\u001b[36mCell\u001b[39m\u001b[36m \u001b[39m\u001b[32mIn[2]\u001b[39m\u001b[32m, line 7\u001b[39m\n\u001b[32m      1\u001b[39m config = {\n\u001b[32m      2\u001b[39m     \u001b[33m\"\u001b[39m\u001b[33mmodel_name\u001b[39m\u001b[33m\"\u001b[39m: \u001b[33m\"\u001b[39m\u001b[33mBehzadshomali/Multilingual5\u001b[39m\u001b[33m\"\u001b[39m,\n\u001b[32m      3\u001b[39m     \u001b[33m\"\u001b[39m\u001b[33mmodel_definition_file_path\u001b[39m\u001b[33m\"\u001b[39m: \u001b[33m\"\u001b[39m\u001b[33m/home/behzad_shomali/modalities/lighteval/lighteval_model_wrapper.py\u001b[39m\u001b[33m\"\u001b[39m,\n\u001b[32m      4\u001b[39m     \u001b[33m\"\u001b[39m\u001b[33mmax_length\u001b[39m\u001b[33m\"\u001b[39m: \u001b[32m2048\u001b[39m,\n\u001b[32m      5\u001b[39m }\n\u001b[32m----> \u001b[39m\u001b[32m7\u001b[39m m = \u001b[43mLightevalModelWrapper\u001b[49m\u001b[43m(\u001b[49m\n\u001b[32m      8\u001b[39m \u001b[43m    \u001b[49m\u001b[43mconfig\u001b[49m\u001b[43m=\u001b[49m\u001b[43mconfig\u001b[49m\n\u001b[32m      9\u001b[39m \u001b[43m)\u001b[49m\n",
      "\u001b[36mFile \u001b[39m\u001b[32m~/modalities/lighteval/lighteval_model_wrapper.py:14\u001b[39m, in \u001b[36mLightevalModelWrapper.__init__\u001b[39m\u001b[34m(self, config)\u001b[39m\n\u001b[32m     11\u001b[39m \u001b[38;5;28;01mdef\u001b[39;00m\u001b[38;5;250m \u001b[39m\u001b[34m__init__\u001b[39m(\u001b[38;5;28mself\u001b[39m, config):\n\u001b[32m     12\u001b[39m     \u001b[38;5;66;03m# super().__init__(config)\u001b[39;00m\n\u001b[32m     13\u001b[39m     \u001b[38;5;28mself\u001b[39m.model_name = \u001b[33m\"\u001b[39m\u001b[33mfd\u001b[39m\u001b[33m\"\u001b[39m\u001b[38;5;66;03m#config.model_name\u001b[39;00m\n\u001b[32m---> \u001b[39m\u001b[32m14\u001b[39m     \u001b[38;5;28mself\u001b[39m.model_definition_file_path = \u001b[43mconfig\u001b[49m\u001b[43m.\u001b[49m\u001b[43mmodel_definition_file_path\u001b[49m\n\u001b[32m     15\u001b[39m     \u001b[38;5;28mself\u001b[39m.config = config\n\u001b[32m     17\u001b[39m     \u001b[38;5;28mself\u001b[39m._tokenizer = AutoTokenizer.from_pretrained(\u001b[38;5;28mself\u001b[39m.model_name)\n",
      "\u001b[31mAttributeError\u001b[39m: 'dict' object has no attribute 'model_definition_file_path'"
     ]
    }
   ],
   "source": [
    "config = {\n",
    "    \"model_name\": \"Behzadshomali/Multilingual5\",\n",
    "    \"model_definition_file_path\": \"/home/behzad_shomali/modalities/lighteval/lighteval_model_wrapper.py\",\n",
    "    \"max_length\": 2048,\n",
    "}\n",
    "\n",
    "m = LightevalModelWrapper(\n",
    "    config=config\n",
    ")"
   ]
  }
 ],
 "metadata": {
  "kernelspec": {
   "display_name": "modalities",
   "language": "python",
   "name": "python3"
  },
  "language_info": {
   "codemirror_mode": {
    "name": "ipython",
    "version": 3
   },
   "file_extension": ".py",
   "mimetype": "text/x-python",
   "name": "python",
   "nbconvert_exporter": "python",
   "pygments_lexer": "ipython3",
   "version": "3.11.13"
  }
 },
 "nbformat": 4,
 "nbformat_minor": 5
}
