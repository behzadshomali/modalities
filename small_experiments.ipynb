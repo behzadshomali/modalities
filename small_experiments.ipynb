{
 "cells": [
  {
   "cell_type": "code",
   "execution_count": 1,
   "id": "3b4157bb",
   "metadata": {},
   "outputs": [
    {
     "name": "stderr",
     "output_type": "stream",
     "text": [
      "/raid/s3/opengptx/behzad_shomali/miniforge3/envs/modalities_orig/lib/python3.11/site-packages/tqdm/auto.py:21: TqdmWarning: IProgress not found. Please update jupyter and ipywidgets. See https://ipywidgets.readthedocs.io/en/stable/user_install.html\n",
      "  from .autonotebook import tqdm as notebook_tqdm\n"
     ]
    }
   ],
   "source": [
    "from transformers import AutoTokenizer, AutoModelForCausalLM"
   ]
  },
  {
   "cell_type": "code",
   "execution_count": 2,
   "id": "81328a8a",
   "metadata": {},
   "outputs": [],
   "source": [
    "device = \"cuda:4\"\n",
    "revision1=\"18.11B\"\n",
    "revision2=\"29.44B\""
   ]
  },
  {
   "cell_type": "code",
   "execution_count": 3,
   "id": "443a561f",
   "metadata": {},
   "outputs": [],
   "source": [
    "# 1. Choose your model \n",
    "model_name = \"Behzadshomali/Multilingual5\"\n",
    "\n",
    "# 2. Load tokenizer and model\n",
    "tokenizer1 = AutoTokenizer.from_pretrained(model_name, revision=revision1)\n",
    "model1 = AutoModelForCausalLM.from_pretrained(model_name, trust_remote_code=True, revision=revision1).to(device)\n",
    "\n",
    "# 3. Load second model\n",
    "model2 = AutoModelForCausalLM.from_pretrained(model_name, trust_remote_code=True, revision=revision2).to(device)\n",
    "tokenizer2 = AutoTokenizer.from_pretrained(model_name, revision=revision2)"
   ]
  },
  {
   "cell_type": "code",
   "execution_count": 4,
   "id": "446d384c",
   "metadata": {},
   "outputs": [],
   "source": [
    "# tokenizer.add_special_tokens({\"pad_token\": \"[PAD]\"})\n",
    "# tokenizer.add_special_tokens({\"eos_token\": \"[EOS]\"})"
   ]
  },
  {
   "cell_type": "code",
   "execution_count": 5,
   "id": "c099b6a4",
   "metadata": {},
   "outputs": [],
   "source": [
    "# push model to Hugging Face Hub\n",
    "# tokenizer.push_to_hub(\"Behzadshomali/Multilingual5\", use_auth_token=True, revision=revision)\n"
   ]
  },
  {
   "cell_type": "code",
   "execution_count": 9,
   "id": "550e0569",
   "metadata": {},
   "outputs": [
    {
     "name": "stdout",
     "output_type": "stream",
     "text": [
      "250881\n",
      "3\n"
     ]
    }
   ],
   "source": [
    "print(tokenizer1.eos_token_id)\n",
    "print(tokenizer2.eos_token_id)\n"
   ]
  },
  {
   "cell_type": "code",
   "execution_count": 7,
   "id": "556bde30",
   "metadata": {},
   "outputs": [],
   "source": [
    "# model = model.to(device)"
   ]
  },
  {
   "cell_type": "code",
   "execution_count": 24,
   "id": "42c9f544",
   "metadata": {},
   "outputs": [
    {
     "name": "stderr",
     "output_type": "stream",
     "text": [
      "Setting `pad_token_id` to `eos_token_id`:2 for open-end generation.\n",
      "Setting `pad_token_id` to `eos_token_id`:2 for open-end generation.\n"
     ]
    }
   ],
   "source": [
    "# 3. Encode your prompt\n",
    "\n",
    "# prompt = \"\"\" [ANNA]: Is Bonn in Germany? \\n[MAX]: \"\"\"\n",
    "\n",
    "# prompt = \"\"\" [ANNA]: Liegt Bonn in Deutschland? \\n[MAX]: \"\"\"\n",
    "prompt = \"I want you to translate the verb ' zu stehen' to English\"\n",
    "# prompt = \"[ENGLISCH]: I go to school. \\n[DEUTSCH]:\"\n",
    "\n",
    "# prompt = \"\"\"\\\n",
    "# [MAX]: Wo ist die Hauptstadt von Deutschland? \n",
    "# [ANNA]: Die Hauptstadt Deutschlands ist \\\n",
    "# \"\"\"\n",
    "\n",
    "inputs1 = tokenizer1(prompt, return_tensors=\"pt\").to(device)\n",
    "inputs2 = tokenizer2(prompt, return_tensors=\"pt\").to(device)\n",
    "\n",
    "\n",
    "# 4. Generate text \n",
    "outputs1 = model1.generate(\n",
    "    **inputs1,\n",
    "    max_length=50,           # total length including prompt\n",
    "    temperature=0.2,         # creativity\n",
    "    top_p=0.9,               # nucleus sampling\n",
    "    do_sample=True           # enable sampling\n",
    ")\n",
    "\n",
    "outputs2 = model2.generate(\n",
    "    **inputs2,\n",
    "    max_length=50,           # total length including prompt\n",
    "    temperature=0.2,         # creativity\n",
    "    top_p=0.9,               # nucleus sampling\n",
    "    do_sample=True  \n",
    ")\n"
   ]
  },
  {
   "cell_type": "code",
   "execution_count": 25,
   "id": "ebd07e81",
   "metadata": {},
   "outputs": [
    {
     "name": "stdout",
     "output_type": "stream",
     "text": [
      "I want you to translate the verb ' zu stehen' to English.\n",
      " -\n",
      " 1.\n",
      " To stand on the ground.\n",
      " -\n",
      " 2.\n",
      " To stand on the ground.\n",
      " -\n",
      " 3.\n",
      " To stand on\n",
      "--------------------\n",
      "I want you to translate the verb ' zu stehen' to English.\n",
      " I want you to translate the verb ' zu stehen' to English.\n",
      " I want you to translate the verb ' zu stehen' to English.\n",
      " I want you to\n"
     ]
    }
   ],
   "source": [
    "# 5. Decode and print\n",
    "generated_text1 = tokenizer1.decode(outputs1[0], skip_special_tokens=True)\n",
    "generated_text2 = tokenizer2.decode(outputs2[0], skip_special_tokens=True)\n",
    "\n",
    "print(generated_text1)\n",
    "print(\"-\"*20)\n",
    "print(generated_text2)"
   ]
  },
  {
   "cell_type": "code",
   "execution_count": 11,
   "id": "05eb31d3",
   "metadata": {},
   "outputs": [
    {
     "data": {
      "text/plain": [
       "LlamaTokenizerFast(name_or_path='Behzadshomali/Multilingual5', vocab_size=250880, model_max_length=1000000000000000019884624838656, is_fast=True, padding_side='left', truncation_side='right', special_tokens={'eos_token': '[EOS]', 'pad_token': '[PAD]'}, clean_up_tokenization_spaces=False, added_tokens_decoder={\n",
       "\t0: AddedToken(\"<pad>\", rstrip=False, lstrip=False, single_word=False, normalized=False, special=True),\n",
       "\t2: AddedToken(\"<s>\", rstrip=False, lstrip=False, single_word=False, normalized=False, special=True),\n",
       "\t3: AddedToken(\"</s>\", rstrip=False, lstrip=False, single_word=False, normalized=False, special=True),\n",
       "\t4: AddedToken(\"<placeholder_tok_1>\", rstrip=False, lstrip=False, single_word=False, normalized=False, special=False),\n",
       "\t5: AddedToken(\"<placeholder_tok_2>\", rstrip=False, lstrip=False, single_word=False, normalized=False, special=False),\n",
       "\t6: AddedToken(\"<placeholder_tok_3>\", rstrip=False, lstrip=False, single_word=False, normalized=False, special=False),\n",
       "\t7: AddedToken(\"<placeholder_tok_4>\", rstrip=False, lstrip=False, single_word=False, normalized=False, special=False),\n",
       "\t8: AddedToken(\"<placeholder_tok_5>\", rstrip=False, lstrip=False, single_word=False, normalized=False, special=False),\n",
       "\t9: AddedToken(\"<placeholder_tok_6>\", rstrip=False, lstrip=False, single_word=False, normalized=False, special=False),\n",
       "\t10: AddedToken(\"<placeholder_tok_7>\", rstrip=False, lstrip=False, single_word=False, normalized=False, special=False),\n",
       "\t11: AddedToken(\"<placeholder_tok_8>\", rstrip=False, lstrip=False, single_word=False, normalized=False, special=False),\n",
       "\t12: AddedToken(\"<placeholder_tok_9>\", rstrip=False, lstrip=False, single_word=False, normalized=False, special=False),\n",
       "\t13: AddedToken(\"<placeholder_tok_10>\", rstrip=False, lstrip=False, single_word=False, normalized=False, special=False),\n",
       "\t14: AddedToken(\"<placeholder_tok_11>\", rstrip=False, lstrip=False, single_word=False, normalized=False, special=False),\n",
       "\t15: AddedToken(\"<placeholder_tok_12>\", rstrip=False, lstrip=False, single_word=False, normalized=False, special=False),\n",
       "\t16: AddedToken(\"<placeholder_tok_13>\", rstrip=False, lstrip=False, single_word=False, normalized=False, special=False),\n",
       "\t17: AddedToken(\"<placeholder_tok_14>\", rstrip=False, lstrip=False, single_word=False, normalized=False, special=False),\n",
       "\t18: AddedToken(\"<placeholder_tok_15>\", rstrip=False, lstrip=False, single_word=False, normalized=False, special=False),\n",
       "\t19: AddedToken(\"<placeholder_tok_16>\", rstrip=False, lstrip=False, single_word=False, normalized=False, special=False),\n",
       "\t20: AddedToken(\"<placeholder_tok_17>\", rstrip=False, lstrip=False, single_word=False, normalized=False, special=False),\n",
       "\t21: AddedToken(\"<placeholder_tok_18>\", rstrip=False, lstrip=False, single_word=False, normalized=False, special=False),\n",
       "\t22: AddedToken(\"<placeholder_tok_19>\", rstrip=False, lstrip=False, single_word=False, normalized=False, special=False),\n",
       "\t23: AddedToken(\"<placeholder_tok_20>\", rstrip=False, lstrip=False, single_word=False, normalized=False, special=False),\n",
       "\t24: AddedToken(\"<placeholder_tok_21>\", rstrip=False, lstrip=False, single_word=False, normalized=False, special=False),\n",
       "\t25: AddedToken(\"<placeholder_tok_22>\", rstrip=False, lstrip=False, single_word=False, normalized=False, special=False),\n",
       "\t26: AddedToken(\"<placeholder_tok_23>\", rstrip=False, lstrip=False, single_word=False, normalized=False, special=False),\n",
       "\t27: AddedToken(\"<placeholder_tok_24>\", rstrip=False, lstrip=False, single_word=False, normalized=False, special=False),\n",
       "\t28: AddedToken(\"<placeholder_tok_25>\", rstrip=False, lstrip=False, single_word=False, normalized=False, special=False),\n",
       "\t29: AddedToken(\"<placeholder_tok_26>\", rstrip=False, lstrip=False, single_word=False, normalized=False, special=False),\n",
       "\t30: AddedToken(\"<placeholder_tok_27>\", rstrip=False, lstrip=False, single_word=False, normalized=False, special=False),\n",
       "\t31: AddedToken(\"<placeholder_tok_28>\", rstrip=False, lstrip=False, single_word=False, normalized=False, special=False),\n",
       "\t32: AddedToken(\"<placeholder_tok_29>\", rstrip=False, lstrip=False, single_word=False, normalized=False, special=False),\n",
       "\t33: AddedToken(\"<placeholder_tok_30>\", rstrip=False, lstrip=False, single_word=False, normalized=False, special=False),\n",
       "\t34: AddedToken(\"<placeholder_tok_31>\", rstrip=False, lstrip=False, single_word=False, normalized=False, special=False),\n",
       "\t35: AddedToken(\"<placeholder_tok_32>\", rstrip=False, lstrip=False, single_word=False, normalized=False, special=False),\n",
       "\t36: AddedToken(\"\n",
       "\", rstrip=False, lstrip=False, single_word=False, normalized=False, special=False),\n",
       "\t37: AddedToken(\"\n",
       "\n",
       "\", rstrip=False, lstrip=False, single_word=False, normalized=False, special=False),\n",
       "\t38: AddedToken(\"\n",
       "\n",
       "\n",
       "\", rstrip=False, lstrip=False, single_word=False, normalized=False, special=False),\n",
       "\t39: AddedToken(\"\n",
       "\n",
       "\n",
       "\n",
       "\", rstrip=False, lstrip=False, single_word=False, normalized=False, special=False),\n",
       "\t40: AddedToken(\"\n",
       "\n",
       "\n",
       "\n",
       "\n",
       "\", rstrip=False, lstrip=False, single_word=False, normalized=False, special=False),\n",
       "\t41: AddedToken(\"\n",
       "\n",
       "\n",
       "\n",
       "\n",
       "\n",
       "\", rstrip=False, lstrip=False, single_word=False, normalized=False, special=False),\n",
       "\t42: AddedToken(\"\n",
       "\n",
       "\n",
       "\n",
       "\n",
       "\n",
       "\n",
       "\", rstrip=False, lstrip=False, single_word=False, normalized=False, special=False),\n",
       "\t43: AddedToken(\"\n",
       "\n",
       "\n",
       "\n",
       "\n",
       "\n",
       "\n",
       "\n",
       "\", rstrip=False, lstrip=False, single_word=False, normalized=False, special=False),\n",
       "\t44: AddedToken(\"\t\", rstrip=False, lstrip=False, single_word=False, normalized=False, special=False),\n",
       "\t45: AddedToken(\"\t\t\", rstrip=False, lstrip=False, single_word=False, normalized=False, special=False),\n",
       "\t46: AddedToken(\"\t\t\t\", rstrip=False, lstrip=False, single_word=False, normalized=False, special=False),\n",
       "\t47: AddedToken(\"\t\t\t\t\", rstrip=False, lstrip=False, single_word=False, normalized=False, special=False),\n",
       "\t48: AddedToken(\"\t\t\t\t\t\", rstrip=False, lstrip=False, single_word=False, normalized=False, special=False),\n",
       "\t49: AddedToken(\"\t\t\t\t\t\t\", rstrip=False, lstrip=False, single_word=False, normalized=False, special=False),\n",
       "\t50: AddedToken(\"\t\t\t\t\t\t\t\", rstrip=False, lstrip=False, single_word=False, normalized=False, special=False),\n",
       "\t51: AddedToken(\"\t\t\t\t\t\t\t\t\", rstrip=False, lstrip=False, single_word=False, normalized=False, special=False),\n",
       "\t250880: AddedToken(\"[PAD]\", rstrip=False, lstrip=False, single_word=False, normalized=False, special=True),\n",
       "\t250881: AddedToken(\"[EOS]\", rstrip=False, lstrip=False, single_word=False, normalized=False, special=True),\n",
       "}\n",
       ")"
      ]
     },
     "execution_count": 11,
     "metadata": {},
     "output_type": "execute_result"
    }
   ],
   "source": [
    "tokenizer"
   ]
  },
  {
   "cell_type": "code",
   "execution_count": 12,
   "id": "9ac7bc95",
   "metadata": {},
   "outputs": [
    {
     "name": "stdout",
     "output_type": "stream",
     "text": [
      "DEUTSCH: Wie sagt man 'Ich gehe zu Bank' auf Englisch Sprache? \n",
      " ENGLISH: „I go to Bank“ auf Englisch Sprache?\n",
      " ENGLISH: „I go to Bank“\n"
     ]
    }
   ],
   "source": [
    "# 5. Decode and print\n",
    "generated_text = tokenizer.decode(outputs[0], skip_special_tokens=True)\n",
    "print(generated_text)"
   ]
  },
  {
   "cell_type": "code",
   "execution_count": 13,
   "id": "2f3e142f",
   "metadata": {},
   "outputs": [
    {
     "name": "stdout",
     "output_type": "stream",
     "text": [
      "DEUTSCH: Wie sagt man 'Ich gehe zu Bank' auf Englisch Sprache? \n",
      " ENGLISH: „I go to Bank“ auf Englisch Sprache?\n",
      " ENGLISH: „I go to Bank“\n"
     ]
    }
   ],
   "source": [
    "# 5. Decode and print\n",
    "generated_text = tokenizer.decode(outputs[0], skip_special_tokens=True)\n",
    "print(generated_text)"
   ]
  }
 ],
 "metadata": {
  "kernelspec": {
   "display_name": "modalities_orig",
   "language": "python",
   "name": "python3"
  },
  "language_info": {
   "codemirror_mode": {
    "name": "ipython",
    "version": 3
   },
   "file_extension": ".py",
   "mimetype": "text/x-python",
   "name": "python",
   "nbconvert_exporter": "python",
   "pygments_lexer": "ipython3",
   "version": "3.11.13"
  }
 },
 "nbformat": 4,
 "nbformat_minor": 5
}
