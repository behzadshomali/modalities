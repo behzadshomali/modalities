{
 "cells": [
  {
   "cell_type": "code",
   "execution_count": 1,
   "id": "3b4157bb",
   "metadata": {},
   "outputs": [
    {
     "name": "stderr",
     "output_type": "stream",
     "text": [
      "/raid/s3/opengptx/behzad_shomali/miniforge3/envs/modalities_orig/lib/python3.11/site-packages/tqdm/auto.py:21: TqdmWarning: IProgress not found. Please update jupyter and ipywidgets. See https://ipywidgets.readthedocs.io/en/stable/user_install.html\n",
      "  from .autonotebook import tqdm as notebook_tqdm\n"
     ]
    }
   ],
   "source": [
    "from transformers import AutoTokenizer, AutoModelForCausalLM"
   ]
  },
  {
   "cell_type": "code",
   "execution_count": 2,
   "id": "81328a8a",
   "metadata": {},
   "outputs": [],
   "source": [
    "device = \"cuda:4\""
   ]
  },
  {
   "cell_type": "code",
   "execution_count": 3,
   "id": "443a561f",
   "metadata": {},
   "outputs": [],
   "source": [
    "# 1. Choose your model \n",
    "model_name = \"Behzadshomali/Multilingual5\"\n",
    "\n",
    "# 2. Load tokenizer and model\n",
    "tokenizer = AutoTokenizer.from_pretrained(model_name)\n",
    "model = AutoModelForCausalLM.from_pretrained(model_name, trust_remote_code=True).to(device)"
   ]
  },
  {
   "cell_type": "code",
   "execution_count": null,
   "id": "446d384c",
   "metadata": {},
   "outputs": [],
   "source": [
    "tokenizer.add_special_tokens({\"pad_token\": \"[PAD]\"})\n",
    "tokenizer.add_special_tokens({\"eos_token\": \"[EOS]\"})"
   ]
  },
  {
   "cell_type": "code",
   "execution_count": null,
   "id": "c099b6a4",
   "metadata": {},
   "outputs": [],
   "source": [
    "# push model to Hugging Face Hub\n",
    "tokenizer.push_to_hub(\"Behzadshomali/Multilingual5\", use_auth_token=True)\n"
   ]
  },
  {
   "cell_type": "code",
   "execution_count": 6,
   "id": "550e0569",
   "metadata": {},
   "outputs": [
    {
     "data": {
      "text/plain": [
       "250880"
      ]
     },
     "execution_count": 6,
     "metadata": {},
     "output_type": "execute_result"
    }
   ],
   "source": [
    "tokenizer.pad_token_id"
   ]
  },
  {
   "cell_type": "code",
   "execution_count": 7,
   "id": "556bde30",
   "metadata": {},
   "outputs": [],
   "source": [
    "# model = model.to(device)"
   ]
  },
  {
   "cell_type": "code",
   "execution_count": 158,
   "id": "42c9f544",
   "metadata": {},
   "outputs": [
    {
     "name": "stderr",
     "output_type": "stream",
     "text": [
      "Setting `pad_token_id` to `eos_token_id`:2 for open-end generation.\n"
     ]
    }
   ],
   "source": [
    "# 3. Encode your prompt\n",
    "\n",
    "# prompt = \"\"\" [ANNA]: Is Bonn in Germany? \\n[MAX]: \"\"\"\n",
    "\n",
    "# prompt = \"\"\" [ANNA]: Liegt Bonn in Deutschland? \\n[MAX]: \"\"\"\n",
    "prompt = \"DEUTSCH: Wie sagt man 'Ich gehe zu Bank' auf Englisch Sprache? \\nENGLISH: \"\n",
    "# prompt = \"[ENGLISCH]: I go to school. \\n[DEUTSCH]:\"\n",
    "\n",
    "# prompt = \"\"\"\\\n",
    "# [MAX]: Wo ist die Hauptstadt von Deutschland? \n",
    "# [ANNA]: Die Hauptstadt Deutschlands ist \\\n",
    "# \"\"\"\n",
    "\n",
    "inputs = tokenizer(prompt, return_tensors=\"pt\").to(device)\n",
    "\n",
    "# 4. Generate text \n",
    "outputs = model.generate(\n",
    "    **inputs,\n",
    "    max_length=50,           # total length including prompt\n",
    "    temperature=0.001,         # creativity\n",
    "    top_p=0.9,               # nucleus sampling\n",
    "    do_sample=True           # enable sampling\n",
    ")"
   ]
  },
  {
   "cell_type": "code",
   "execution_count": 159,
   "id": "c0348249",
   "metadata": {},
   "outputs": [
    {
     "data": {
      "text/plain": [
       "{'input_ids': tensor([[  7957,   5413, 152853, 250495,  17944,  10519,    797,   1172,  51941,\n",
       "          76745,   1470,  10495, 250469,   2113, 140868,  91614, 250573, 250428,\n",
       "             36,  12992,  28188,  81270, 250495, 250428]], device='cuda:4'), 'attention_mask': tensor([[1, 1, 1, 1, 1, 1, 1, 1, 1, 1, 1, 1, 1, 1, 1, 1, 1, 1, 1, 1, 1, 1, 1, 1]],\n",
       "       device='cuda:4')}"
      ]
     },
     "execution_count": 159,
     "metadata": {},
     "output_type": "execute_result"
    }
   ],
   "source": [
    "inputs"
   ]
  },
  {
   "cell_type": "code",
   "execution_count": 160,
   "id": "ebd07e81",
   "metadata": {},
   "outputs": [
    {
     "name": "stdout",
     "output_type": "stream",
     "text": [
      "DEUTSCH: Wie sagt man 'Ich gehe zu Bank' auf Englisch Sprache? \n",
      " ENGLISH: „I go to bank“ auf Englisch Sprache?\n",
      " ENGLISH: „I go to bank“\n"
     ]
    }
   ],
   "source": [
    "# 5. Decode and print\n",
    "generated_text = tokenizer.decode(outputs[0], skip_special_tokens=True)\n",
    "print(generated_text)"
   ]
  },
  {
   "cell_type": "code",
   "execution_count": null,
   "id": "05eb31d3",
   "metadata": {},
   "outputs": [],
   "source": [
    "tokenizer"
   ]
  },
  {
   "cell_type": "code",
   "execution_count": 147,
   "id": "9ac7bc95",
   "metadata": {},
   "outputs": [
    {
     "name": "stdout",
     "output_type": "stream",
     "text": [
      "DEUTSCH: Wie sagt man 'Ich gehe zu Bank' auf Englisch Sprache? \n",
      " ENGLISH: „I go to bank“ auf Englisch Sprache?\n",
      " ENGLISH: „I go to bank“\n"
     ]
    }
   ],
   "source": [
    "# 5. Decode and print\n",
    "generated_text = tokenizer.decode(outputs[0], skip_special_tokens=True)\n",
    "print(generated_text)"
   ]
  },
  {
   "cell_type": "code",
   "execution_count": 10,
   "id": "2f3e142f",
   "metadata": {},
   "outputs": [
    {
     "name": "stdout",
     "output_type": "stream",
     "text": [
      "Wie sagt man 'mach die Tür zu' auf Englisch? \n",
      "  01\n",
      " - Mach die Tür zu (Very Important) -\n",
      " -\n",
      " 02\n",
      " - Mach die Tür zu (Heldentod) -\n",
      " -\n"
     ]
    }
   ],
   "source": [
    "# 5. Decode and print\n",
    "generated_text = tokenizer.decode(outputs[0], skip_special_tokens=True)\n",
    "print(generated_text)"
   ]
  }
 ],
 "metadata": {
  "kernelspec": {
   "display_name": "modalities_orig",
   "language": "python",
   "name": "python3"
  },
  "language_info": {
   "codemirror_mode": {
    "name": "ipython",
    "version": 3
   },
   "file_extension": ".py",
   "mimetype": "text/x-python",
   "name": "python",
   "nbconvert_exporter": "python",
   "pygments_lexer": "ipython3",
   "version": "3.11.13"
  }
 },
 "nbformat": 4,
 "nbformat_minor": 5
}
